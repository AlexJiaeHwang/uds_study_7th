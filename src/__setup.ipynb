{
 "metadata": {
  "name": "",
  "signature": "sha256:d7a08906aec1132dd937a045600ae6087544d7f5060a04ebb1119065976a5f4d"
 },
 "nbformat": 3,
 "nbformat_minor": 0,
 "worksheets": [
  {
   "cells": [
    {
     "cell_type": "heading",
     "level": 1,
     "metadata": {},
     "source": [
      "\uc2a4\ud130\ub514\uc6a9 \uac1c\ubc1c \ud658\uacbd \uc14b\ud305\uc744 \uc124\uba85\ud55c\ub2e4\uba70\n",
      "\n",
      "IPython notebook\uc73c\ub85c IPython notebook\uc124\uce58 \ubc29\ubc95\uc744 \uc54c\ub824\uc8fc\ub294 \ub9e4\uc6b0 \uc4f8\ubaa8 \uc5c6\ub294 \ubb38\uc11c"
     ]
    },
    {
     "cell_type": "markdown",
     "metadata": {},
     "source": [
      "\uc9c0\uae08 \ubb50\uac00 \ubb54\uc9c0 \ubab0\ub77c\ub3c4 \ub2f9\ud669\ud558\uc9c0 \ub9c8\uc138\uc694. \uc810\ucc28 \uc54c\uac8c \ub429\ub2c8\ub2e4. \n",
      "\n",
      "\uc6b0\uc120\uc740 \uc624\ub958 \uc5c6\uc774 \uc21c\uc11c\ub300\ub85c \uc815\ud655\ud558\uac8c \uc2e4\ud589\ud558\uace0 \uc124\uce58\ud558\ub294\ub370 \uc9d1\uc911\ud558\uc2dc\uba74 \ub429\ub2c8\ub2e4.\n"
     ]
    },
    {
     "cell_type": "heading",
     "level": 2,
     "metadata": {},
     "source": [
      "1. Install Xcode"
     ]
    },
    {
     "cell_type": "markdown",
     "metadata": {},
     "source": [
      "Xcode\ub294 \uac1c\ubc1c\ub3c4\uad6c\ub85c \uc5ec\ub7ec \uae30\uc874\uc5d0 \ub9cc\ub4e4\uc5b4\uc9c4 \ub3c4\uad6c\ub098 \ub77c\uc774\ube0c\ub7ec\ub9ac\ub97c \uc124\uce58\ud558\ub294\ub370 \uc0ac\uc6a9\ub429\ub2c8\ub2e4."
     ]
    },
    {
     "cell_type": "markdown",
     "metadata": {},
     "source": [
      "1. \uc67c\ucabd \uad6c\uc11d \uc704 \uc0ac\uacfc -> App Store \uba54\ub274\n",
      "2. Xcode \uac80\uc0c9 \n",
      "3. Install"
     ]
    },
    {
     "cell_type": "heading",
     "level": 2,
     "metadata": {},
     "source": [
      "2. Install Xcode Command Line Tools"
     ]
    },
    {
     "cell_type": "markdown",
     "metadata": {},
     "source": [
      "1. Applications -> Xcode \uc2e4\ud589\n",
      "2. Xcode -> preferences \uba54\ub274\n",
      "3. Downloads \ud0ed\n",
      "4. Components \ud56d\ubaa9\n",
      "5. Command Line Tools \uc124\uce58."
     ]
    },
    {
     "cell_type": "heading",
     "level": 2,
     "metadata": {},
     "source": [
      "3. Install Homebrew"
     ]
    },
    {
     "cell_type": "markdown",
     "metadata": {},
     "source": [
      "brew\ub294 Mac package manager\ub85c \uac01\uc885 \ud504\ub85c\uadf8\ub7a8\uc744 \uc124\uce58\ud558\ub294\ub370 \uc0ac\uc6a9\ub429\ub2c8\ub2e4."
     ]
    },
    {
     "cell_type": "code",
     "collapsed": false,
     "input": [
      "%%bash\n",
      "ruby -e \"$(curl -fsSL https://raw.githubusercontent.com/.../install/master/install)\""
     ],
     "language": "python",
     "metadata": {},
     "outputs": []
    },
    {
     "cell_type": "heading",
     "level": 2,
     "metadata": {},
     "source": [
      "4. Install git"
     ]
    },
    {
     "cell_type": "markdown",
     "metadata": {},
     "source": [
      "git\uc740 \uc5ec\ub7ff\uc774 \ucf54\ub4dc\ub97c \ud568\uaed8 \uc218\uc815\ud560 \uc218 \uc788\ub3c4\ub85d \ubcc0\uacbd\uc0ac\ud56d\ub4f1\uc744 \ucd94\uc801\ud558\uace0 \uad00\ub9ac\ud574\uc8fc\ub294 \ub3c4\uad6c\uc785\ub2c8\ub2e4.\n",
      "\uc5ec\uae30\uc11c\ub294 \uac15\uc758\uc790\ub8cc\ub97c \ubc1b\uc544\uc624\ub294\ub370 \uc0ac\uc6a9\ud569\ub2c8\ub2e4."
     ]
    },
    {
     "cell_type": "code",
     "collapsed": false,
     "input": [
      "%%bash\n",
      "brew install git"
     ],
     "language": "python",
     "metadata": {},
     "outputs": []
    },
    {
     "cell_type": "heading",
     "level": 2,
     "metadata": {},
     "source": [
      "5. Install pip"
     ]
    },
    {
     "cell_type": "markdown",
     "metadata": {},
     "source": [
      "pip\uc740 python package manager\ub85c \ud30c\uc774\uc36c\uc744 \uc704\ud55c \ub77c\uc774\ube0c\ub7ec\ub9ac\ub97c \uc124\uce58\ud558\ub294\ub370 \uc0ac\uc6a9\ub429\ub2c8\ub2e4."
     ]
    },
    {
     "cell_type": "code",
     "collapsed": false,
     "input": [
      "%%bash\n",
      "wget https://bootstrap.pypa.io/get-pip.py\n",
      "sudo python get-pip.py"
     ],
     "language": "python",
     "metadata": {},
     "outputs": []
    },
    {
     "cell_type": "heading",
     "level": 2,
     "metadata": {},
     "source": [
      "6. Install Virtual Environment"
     ]
    },
    {
     "cell_type": "markdown",
     "metadata": {},
     "source": [
      "virtualenv\ub294 \uc11c\ub85c \ubd84\ub9ac\ub41c \uc5ec\ub7ec python \ud658\uacbd\uc744 \ub9cc\ub4dc\ub294\ub370 \uc0ac\uc6a9\ub429\ub2c8\ub2e4. "
     ]
    },
    {
     "cell_type": "code",
     "collapsed": false,
     "input": [
      "%%bash\n",
      "sudo pip install virtualenv"
     ],
     "language": "python",
     "metadata": {},
     "outputs": []
    },
    {
     "cell_type": "heading",
     "level": 2,
     "metadata": {},
     "source": [
      "7. \uac15\uc758 \uc790\ub8cc \ubc1b\uc544\uc624\uace0 \uc124\uc815\ud558\uae30"
     ]
    },
    {
     "cell_type": "code",
     "collapsed": false,
     "input": [
      "%%bash\n",
      "cd ~/Documents  # \uc801\ub2f9\ud788 \uc790\ub8cc\ub97c \ubc1b\uc544\ub193\uc744 \uacf3\uc73c\ub85c \uc774\ub3d9\n",
      "git clone https://github.com/lexifdev/uds_study_7th\n",
      "cd uds_study_7th\n",
      "virtualenv env  # virtualenv \uc0dd\uc131\n",
      ". ./env/bin/activate  # virtualenv \ud65c\uc131\ud654\n",
      "pip install -r requirements.txt  # \uc2e4\ud589\ud558\ub294\ub370 \ud544\uc694\ud55c \ub77c\uc774\ube0c\ub7ec\ub9ac\ub4e4 \uc124\uce58"
     ],
     "language": "python",
     "metadata": {},
     "outputs": []
    },
    {
     "cell_type": "heading",
     "level": 2,
     "metadata": {},
     "source": [
      "8. \uc2e4\ud589"
     ]
    },
    {
     "cell_type": "code",
     "collapsed": false,
     "input": [
      "%%bash\n",
      "ipython notebook"
     ],
     "language": "python",
     "metadata": {},
     "outputs": []
    },
    {
     "cell_type": "heading",
     "level": 2,
     "metadata": {},
     "source": [
      "9. Profit!"
     ]
    },
    {
     "cell_type": "markdown",
     "metadata": {},
     "source": [
      "\uc131\uacf5\uc801\uc73c\ub85c \uc2e4\ud589\ub418\uba74 \uc6f9\ube0c\ub77c\uc6b0\uc800\uac00 \uc790\ub3d9\uc73c\ub85c \uc5f4\ub9b4\uac81\ub2c8\ub2e4.\n",
      "\n",
      "\uc774\uc81c .ipynb \ud30c\uc77c\ub4e4\uc744 \uc5f4\uc5b4\uc11c \uc774\ub9ac\uc800\ub9ac \uad74\ub824\ubcf4\uc2dc\uba74 \ub429\ub2c8\ub2e4."
     ]
    },
    {
     "cell_type": "code",
     "collapsed": false,
     "input": [],
     "language": "python",
     "metadata": {},
     "outputs": []
    }
   ],
   "metadata": {}
  }
 ]
}