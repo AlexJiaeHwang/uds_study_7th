{
 "metadata": {
  "name": "",
  "signature": "sha256:ca3867bb72eee8110d4faa6d884380364d7470386923eb6ef2daea181dd72e9b"
 },
 "nbformat": 3,
 "nbformat_minor": 0,
 "worksheets": []
}