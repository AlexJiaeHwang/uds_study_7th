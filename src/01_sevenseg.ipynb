{
 "metadata": {
  "name": "",
  "signature": "sha256:196cf492d006088c646689eb5a434db5c67322e2b0071adfaa4b35e2dd5e861f"
 },
 "nbformat": 3,
 "nbformat_minor": 0,
 "worksheets": [
  {
   "cells": [
    {
     "cell_type": "code",
     "collapsed": false,
     "input": [
      "import widget\n",
      "display = widget.SevenSegWidget()"
     ],
     "language": "python",
     "metadata": {},
     "outputs": []
    },
    {
     "cell_type": "code",
     "collapsed": false,
     "input": [
      "display"
     ],
     "language": "python",
     "metadata": {},
     "outputs": []
    },
    {
     "cell_type": "code",
     "collapsed": false,
     "input": [
      "def show_2():\n",
      "    display.led_0 = True\n",
      "    display.led_2 = True\n",
      "    display.led_3 = True\n",
      "    display.led_4 = True\n",
      "    display.led_6 = True"
     ],
     "language": "python",
     "metadata": {},
     "outputs": []
    },
    {
     "cell_type": "code",
     "collapsed": false,
     "input": [
      "show_2()"
     ],
     "language": "python",
     "metadata": {},
     "outputs": []
    },
    {
     "cell_type": "code",
     "collapsed": false,
     "input": [
      "def show_zero():\n",
      "    display.led_0 = False\n",
      "    display.led_1 = False\n",
      "    display.led_2 = False\n",
      "    display.led_3 = False\n",
      "    display.led_4 = False\n",
      "    display.led_5 = False\n",
      "    display.led_6 = False"
     ],
     "language": "python",
     "metadata": {},
     "outputs": []
    },
    {
     "cell_type": "code",
     "collapsed": false,
     "input": [
      "show_zero()"
     ],
     "language": "python",
     "metadata": {},
     "outputs": []
    }
   ],
   "metadata": {}
  }
 ]
}